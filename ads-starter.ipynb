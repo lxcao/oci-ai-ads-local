{
 "cells": [
  {
   "cell_type": "code",
   "execution_count": 1,
   "metadata": {},
   "outputs": [
    {
     "name": "stderr",
     "output_type": "stream",
     "text": [
      "OpenBLAS WARNING - could not determine the L2 cache size on this system, assuming 256k\n",
      "OpenBLAS WARNING - could not determine the L2 cache size on this system, assuming 256k\n"
     ]
    },
    {
     "name": "stdout",
     "output_type": "stream",
     "text": [
      "\n",
      "\n",
      "  O  o-o   o-o\n",
      " / \\ |  \\ |\n",
      "o---o|   O o-o\n",
      "|   ||  /     |\n",
      "o   oo-o  o--o\n",
      "\n",
      "ADS SDK version: 2.8.1\n",
      "Pandas version: 1.5.3\n",
      "Debug mode: False\n",
      "\n"
     ]
    }
   ],
   "source": [
    "import ads\n",
    "ads.hello()"
   ]
  },
  {
   "cell_type": "code",
   "execution_count": 2,
   "metadata": {},
   "outputs": [
    {
     "name": "stdout",
     "output_type": "stream",
     "text": [
      "2.93.0\n"
     ]
    }
   ],
   "source": [
    "import oci\n",
    "print(oci.__version__);"
   ]
  },
  {
   "cell_type": "code",
   "execution_count": 9,
   "metadata": {},
   "outputs": [
    {
     "data": {
      "application/vnd.jupyter.widget-view+json": {
       "model_id": "fa290137f9a24a65869aa5a7399de4df",
       "version_major": 2,
       "version_minor": 0
      },
      "text/plain": [
       "loop1:   0%|          | 0/4 [00:00<?, ?it/s]"
      ]
     },
     "metadata": {},
     "output_type": "display_data"
    },
    {
     "data": {
      "application/vnd.jupyter.widget-view+json": {
       "model_id": "fd8a3f290aa741229b2a3d3796814318",
       "version_major": 2,
       "version_minor": 0
      },
      "text/plain": [
       "loop1:   0%|          | 0/4 [00:00<?, ?it/s]"
      ]
     },
     "metadata": {},
     "output_type": "display_data"
    }
   ],
   "source": [
    "import numpy as np\n",
    "import pandas as pd\n",
    "from sklearn.datasets import load_iris\n",
    "data = load_iris()\n",
    "df = pd.DataFrame(data.data, columns=data.feature_names)\n",
    "df[\"species\"] = data.target\n",
    "\n",
    "from ads.dataset.factory import DatasetFactory\n",
    "\n",
    "# these two are equivalent:\n",
    "ds = DatasetFactory.open(df, target=\"species\")\n",
    "# OR\n",
    "ds = DatasetFactory.from_dataframe(df, target=\"species\")"
   ]
  },
  {
   "cell_type": "code",
   "execution_count": 10,
   "metadata": {},
   "outputs": [
    {
     "data": {
      "text/html": [
       "<div>\n",
       "<style scoped>\n",
       "    .dataframe tbody tr th:only-of-type {\n",
       "        vertical-align: middle;\n",
       "    }\n",
       "\n",
       "    .dataframe tbody tr th {\n",
       "        vertical-align: top;\n",
       "    }\n",
       "\n",
       "    .dataframe thead th {\n",
       "        text-align: right;\n",
       "    }\n",
       "</style>\n",
       "<table border=\"1\" class=\"dataframe\">\n",
       "  <thead>\n",
       "    <tr style=\"text-align: right;\">\n",
       "      <th></th>\n",
       "      <th>sepal_length_(cm)</th>\n",
       "      <th>sepal_width_(cm)</th>\n",
       "      <th>petal_length_(cm)</th>\n",
       "      <th>petal_width_(cm)</th>\n",
       "      <th>species</th>\n",
       "    </tr>\n",
       "  </thead>\n",
       "  <tbody>\n",
       "    <tr>\n",
       "      <th>0</th>\n",
       "      <td>5.1</td>\n",
       "      <td>3.5</td>\n",
       "      <td>1.4</td>\n",
       "      <td>0.2</td>\n",
       "      <td>0</td>\n",
       "    </tr>\n",
       "    <tr>\n",
       "      <th>1</th>\n",
       "      <td>4.9</td>\n",
       "      <td>3.0</td>\n",
       "      <td>1.4</td>\n",
       "      <td>0.2</td>\n",
       "      <td>0</td>\n",
       "    </tr>\n",
       "    <tr>\n",
       "      <th>2</th>\n",
       "      <td>4.7</td>\n",
       "      <td>3.2</td>\n",
       "      <td>1.3</td>\n",
       "      <td>0.2</td>\n",
       "      <td>0</td>\n",
       "    </tr>\n",
       "    <tr>\n",
       "      <th>3</th>\n",
       "      <td>4.6</td>\n",
       "      <td>3.1</td>\n",
       "      <td>1.5</td>\n",
       "      <td>0.2</td>\n",
       "      <td>0</td>\n",
       "    </tr>\n",
       "    <tr>\n",
       "      <th>4</th>\n",
       "      <td>5.0</td>\n",
       "      <td>3.6</td>\n",
       "      <td>1.4</td>\n",
       "      <td>0.2</td>\n",
       "      <td>0</td>\n",
       "    </tr>\n",
       "  </tbody>\n",
       "</table>\n",
       "</div>"
      ],
      "text/plain": [
       "   sepal_length_(cm)  sepal_width_(cm)  petal_length_(cm)  petal_width_(cm)  \\\n",
       "0                5.1               3.5                1.4               0.2   \n",
       "1                4.9               3.0                1.4               0.2   \n",
       "2                4.7               3.2                1.3               0.2   \n",
       "3                4.6               3.1                1.5               0.2   \n",
       "4                5.0               3.6                1.4               0.2   \n",
       "\n",
       "   species  \n",
       "0        0  \n",
       "1        0  \n",
       "2        0  \n",
       "3        0  \n",
       "4        0  "
      ]
     },
     "execution_count": 10,
     "metadata": {},
     "output_type": "execute_result"
    }
   ],
   "source": [
    "ds.head()"
   ]
  },
  {
   "cell_type": "code",
   "execution_count": 11,
   "metadata": {},
   "outputs": [
    {
     "data": {
      "image/png": "[encoded data removed]",
      "text/plain": [
       "<Figure size 576x432 with 1 Axes>"
      ]
     },
     "metadata": {},
     "output_type": "display_data"
    }
   ],
   "source": [
    "ds.target.show_in_notebook()"
   ]
  },
  {
   "cell_type": "code",
   "execution_count": 12,
   "metadata": {},
   "outputs": [
    {
     "data": {
      "image/png": "[encoded data removed]",
      "text/plain": [
       "<Figure size 576x576 with 1 Axes>"
      ]
     },
     "metadata": {},
     "output_type": "display_data"
    }
   ],
   "source": [
    "ds.plot(\"sepal_length_(cm)\").show_in_notebook(figsize=(4,4))"
   ]
  },
  {
   "cell_type": "code",
   "execution_count": 23,
   "metadata": {},
   "outputs": [
    {
     "data": {
      "text/html": [
       "<div>\n",
       "<style scoped>\n",
       "    .dataframe tbody tr th:only-of-type {\n",
       "        vertical-align: middle;\n",
       "    }\n",
       "\n",
       "    .dataframe tbody tr th {\n",
       "        vertical-align: top;\n",
       "    }\n",
       "\n",
       "    .dataframe thead th {\n",
       "        text-align: right;\n",
       "    }\n",
       "</style>\n",
       "<table border=\"1\" class=\"dataframe\">\n",
       "  <thead>\n",
       "    <tr style=\"text-align: right;\">\n",
       "      <th></th>\n",
       "      <th>sepal.length</th>\n",
       "      <th>sepal.width</th>\n",
       "      <th>petal.length</th>\n",
       "      <th>petal.width</th>\n",
       "      <th>variety</th>\n",
       "    </tr>\n",
       "  </thead>\n",
       "  <tbody>\n",
       "    <tr>\n",
       "      <th>0</th>\n",
       "      <td>5.1</td>\n",
       "      <td>3.5</td>\n",
       "      <td>1.4</td>\n",
       "      <td>0.2</td>\n",
       "      <td>Setosa</td>\n",
       "    </tr>\n",
       "    <tr>\n",
       "      <th>1</th>\n",
       "      <td>4.9</td>\n",
       "      <td>3.0</td>\n",
       "      <td>1.4</td>\n",
       "      <td>0.2</td>\n",
       "      <td>Setosa</td>\n",
       "    </tr>\n",
       "    <tr>\n",
       "      <th>2</th>\n",
       "      <td>4.7</td>\n",
       "      <td>3.2</td>\n",
       "      <td>1.3</td>\n",
       "      <td>0.2</td>\n",
       "      <td>Setosa</td>\n",
       "    </tr>\n",
       "    <tr>\n",
       "      <th>3</th>\n",
       "      <td>4.6</td>\n",
       "      <td>3.1</td>\n",
       "      <td>1.5</td>\n",
       "      <td>0.2</td>\n",
       "      <td>Setosa</td>\n",
       "    </tr>\n",
       "    <tr>\n",
       "      <th>4</th>\n",
       "      <td>5.0</td>\n",
       "      <td>3.6</td>\n",
       "      <td>1.4</td>\n",
       "      <td>0.2</td>\n",
       "      <td>Setosa</td>\n",
       "    </tr>\n",
       "  </tbody>\n",
       "</table>\n",
       "</div>"
      ],
      "text/plain": [
       "   sepal.length  sepal.width  petal.length  petal.width variety\n",
       "0           5.1          3.5           1.4          0.2  Setosa\n",
       "1           4.9          3.0           1.4          0.2  Setosa\n",
       "2           4.7          3.2           1.3          0.2  Setosa\n",
       "3           4.6          3.1           1.5          0.2  Setosa\n",
       "4           5.0          3.6           1.4          0.2  Setosa"
      ]
     },
     "execution_count": 23,
     "metadata": {},
     "output_type": "execute_result"
    }
   ],
   "source": [
    "\n",
    "from ads.common.auth import default_signer\n",
    "\n",
    "ads.set_auth(auth=\"api_key\", oci_config_location=oci.config.DEFAULT_LOCATION, profile=\"specialist2-4sdk\")\n",
    "bucket_name = \"bucket-20220501-1555\"\n",
    "file_name = \"iris.csv\"\n",
    "namespace = \"ocichina001\"\n",
    "df = pd.read_csv(f\"oci://{bucket_name}@{namespace}/{file_name}\", storage_options=default_signer())\n",
    "df.head()"
   ]
  },
  {
   "cell_type": "code",
   "execution_count": 22,
   "metadata": {},
   "outputs": [
    {
     "data": {
      "application/vnd.jupyter.widget-view+json": {
       "model_id": "e482dd78bddd4c5e947e0c2f7d727f6b",
       "version_major": 2,
       "version_minor": 0
      },
      "text/plain": [
       "loop1:   0%|          | 0/4 [00:00<?, ?it/s]"
      ]
     },
     "metadata": {},
     "output_type": "display_data"
    },
    {
     "data": {
      "text/html": [
       "<div>\n",
       "<style scoped>\n",
       "    .dataframe tbody tr th:only-of-type {\n",
       "        vertical-align: middle;\n",
       "    }\n",
       "\n",
       "    .dataframe tbody tr th {\n",
       "        vertical-align: top;\n",
       "    }\n",
       "\n",
       "    .dataframe thead th {\n",
       "        text-align: right;\n",
       "    }\n",
       "</style>\n",
       "<table border=\"1\" class=\"dataframe\">\n",
       "  <thead>\n",
       "    <tr style=\"text-align: right;\">\n",
       "      <th></th>\n",
       "      <th>sepal.length</th>\n",
       "      <th>sepal.width</th>\n",
       "      <th>petal.length</th>\n",
       "      <th>petal.width</th>\n",
       "      <th>variety</th>\n",
       "    </tr>\n",
       "  </thead>\n",
       "  <tbody>\n",
       "    <tr>\n",
       "      <th>0</th>\n",
       "      <td>5.1</td>\n",
       "      <td>3.5</td>\n",
       "      <td>1.4</td>\n",
       "      <td>0.2</td>\n",
       "      <td>Setosa</td>\n",
       "    </tr>\n",
       "    <tr>\n",
       "      <th>1</th>\n",
       "      <td>4.9</td>\n",
       "      <td>3.0</td>\n",
       "      <td>1.4</td>\n",
       "      <td>0.2</td>\n",
       "      <td>Setosa</td>\n",
       "    </tr>\n",
       "    <tr>\n",
       "      <th>2</th>\n",
       "      <td>4.7</td>\n",
       "      <td>3.2</td>\n",
       "      <td>1.3</td>\n",
       "      <td>0.2</td>\n",
       "      <td>Setosa</td>\n",
       "    </tr>\n",
       "    <tr>\n",
       "      <th>3</th>\n",
       "      <td>4.6</td>\n",
       "      <td>3.1</td>\n",
       "      <td>1.5</td>\n",
       "      <td>0.2</td>\n",
       "      <td>Setosa</td>\n",
       "    </tr>\n",
       "    <tr>\n",
       "      <th>4</th>\n",
       "      <td>5.0</td>\n",
       "      <td>3.6</td>\n",
       "      <td>1.4</td>\n",
       "      <td>0.2</td>\n",
       "      <td>Setosa</td>\n",
       "    </tr>\n",
       "  </tbody>\n",
       "</table>\n",
       "</div>"
      ],
      "text/plain": [
       "   sepal.length  sepal.width  petal.length  petal.width variety\n",
       "0           5.1          3.5           1.4          0.2  Setosa\n",
       "1           4.9          3.0           1.4          0.2  Setosa\n",
       "2           4.7          3.2           1.3          0.2  Setosa\n",
       "3           4.6          3.1           1.5          0.2  Setosa\n",
       "4           5.0          3.6           1.4          0.2  Setosa"
      ]
     },
     "execution_count": 22,
     "metadata": {},
     "output_type": "execute_result"
    }
   ],
   "source": [
    "from ads.common.auth import default_signer\n",
    "\n",
    "ads.set_auth(auth=\"api_key\", oci_config_location=oci.config.DEFAULT_LOCATION, profile=\"specialist2-4sdk\")\n",
    "bucket_name = \"bucket-20220501-1555\"\n",
    "file_name = \"iris.csv\"\n",
    "namespace = \"ocichina001\"\n",
    "storage_options = {'config':\"~/.oci/config\", 'profile': \"specialist2-4sdk\", 'tenancy': 'ocid1.tenancy.oc1..aaaaaaaavnk4luuiasjkuhiizwnwust2xx3td7b4cbj5vhiccb47hra26p4q', 'region': \"ap-singapore-1\"}\n",
    "ds = DatasetFactory.open(f\"oci://{bucket_name}@{namespace}/{file_name}\", storage_options=storage_options)\n",
    "ds.head()"
   ]
  },
  {
   "cell_type": "code",
   "execution_count": 25,
   "metadata": {},
   "outputs": [
    {
     "name": "stdout",
     "output_type": "stream",
     "text": [
      "['bucket-20220501-1555@ocichina001/currybeef.mp4', 'bucket-20220501-1555@ocichina001/currybeefmovie202206031033', 'bucket-20220501-1555@ocichina001/iris', 'bucket-20220501-1555@ocichina001/iris.csv']\n",
      "b'\"sepal.length\",\"sepal.width\",\"petal.length\",\"petal.width\",\"variety\"\\n5.1,3.5,1.4,.2,\"Setosa\"\\n4.9,3,1.4,.2,\"Setosa\"\\n4.7,3.2,1.3,.2,\"Setosa\"\\n4.6,3.1,1.5,.2,\"Setosa\"\\n5,3.6,1.4,.2,\"Setosa\"\\n5.4,3.9,1.7,.4,\"Setosa\"\\n4.6,3.4,1.4,.3,\"Setosa\"\\n5,3.4,1.5,.2,\"Setosa\"\\n4.4,2.9,1.4,.2,\"Setosa\"\\n4.9,3.1,1.5,.1,\"Setosa\"\\n5.4,3.7,1.5,.2,\"Setosa\"\\n4.8,3.4,1.6,.2,\"Setosa\"\\n4.8,3,1.4,.1,\"Setosa\"\\n4.3,3,1.1,.1,\"Setosa\"\\n5.8,4,1.2,.2,\"Setosa\"\\n5.7,4.4,1.5,.4,\"Setosa\"\\n5.4,3.9,1.3,.4,\"Setosa\"\\n5.1,3.5,1.4,.3,\"Setosa\"\\n5.7,3.8,1.7,.3,\"Setosa\"\\n5.1,3.8,1.5,.3,\"Setosa\"\\n5.4,3.4,1.7,.2,\"Setosa\"\\n5.1,3.7,1.5,.4,\"Setosa\"\\n4.6,3.6,1,.2,\"Setosa\"\\n5.1,3.3,1.7,.5,\"Setosa\"\\n4.8,3.4,1.9,.2,\"Setosa\"\\n5,3,1.6,.2,\"Setosa\"\\n5,3.4,1.6,.4,\"Setosa\"\\n5.2,3.5,1.5,.2,\"Setosa\"\\n5.2,3.4,1.4,.2,\"Setosa\"\\n4.7,3.2,1.6,.2,\"Setosa\"\\n4.8,3.1,1.6,.2,\"Setosa\"\\n5.4,3.4,1.5,.4,\"Setosa\"\\n5.2,4.1,1.5,.1,\"Setosa\"\\n5.5,4.2,1.4,.2,\"Setosa\"\\n4.9,3.1,1.5,.2,\"Setosa\"\\n5,3.2,1.2,.2,\"Setosa\"\\n5.5,3.5,1.3,.2,\"Setosa\"\\n4.9,3.6,1.4,.1,\"Setosa\"\\n4.4,3,1.3,.2,\"Setosa\"\\n5.1,3.4,1.5,.2,\"Setosa\"\\n5,3.5,1.3,.3,\"Setosa\"\\n4.5,2.3,1.3,.3,\"Setosa\"\\n4.4,3.2,1.3,.2,\"Setosa\"\\n5,3.5,1.6,.6,\"Setosa\"\\n5.1,3.8,1.9,.4,\"Setosa\"\\n4.8,3,1.4,.3,\"Setosa\"\\n5.1,3.8,1.6,.2,\"Setosa\"\\n4.6,3.2,1.4,.2,\"Setosa\"\\n5.3,3.7,1.5,.2,\"Setosa\"\\n5,3.3,1.4,.2,\"Setosa\"\\n7,3.2,4.7,1.4,\"Versicolor\"\\n6.4,3.2,4.5,1.5,\"Versicolor\"\\n6.9,3.1,4.9,1.5,\"Versicolor\"\\n5.5,2.3,4,1.3,\"Versicolor\"\\n6.5,2.8,4.6,1.5,\"Versicolor\"\\n5.7,2.8,4.5,1.3,\"Versicolor\"\\n6.3,3.3,4.7,1.6,\"Versicolor\"\\n4.9,2.4,3.3,1,\"Versicolor\"\\n6.6,2.9,4.6,1.3,\"Versicolor\"\\n5.2,2.7,3.9,1.4,\"Versicolor\"\\n5,2,3.5,1,\"Versicolor\"\\n5.9,3,4.2,1.5,\"Versicolor\"\\n6,2.2,4,1,\"Versicolor\"\\n6.1,2.9,4.7,1.4,\"Versicolor\"\\n5.6,2.9,3.6,1.3,\"Versicolor\"\\n6.7,3.1,4.4,1.4,\"Versicolor\"\\n5.6,3,4.5,1.5,\"Versicolor\"\\n5.8,2.7,4.1,1,\"Versicolor\"\\n6.2,2.2,4.5,1.5,\"Versicolor\"\\n5.6,2.5,3.9,1.1,\"Versicolor\"\\n5.9,3.2,4.8,1.8,\"Versicolor\"\\n6.1,2.8,4,1.3,\"Versicolor\"\\n6.3,2.5,4.9,1.5,\"Versicolor\"\\n6.1,2.8,4.7,1.2,\"Versicolor\"\\n6.4,2.9,4.3,1.3,\"Versicolor\"\\n6.6,3,4.4,1.4,\"Versicolor\"\\n6.8,2.8,4.8,1.4,\"Versicolor\"\\n6.7,3,5,1.7,\"Versicolor\"\\n6,2.9,4.5,1.5,\"Versicolor\"\\n5.7,2.6,3.5,1,\"Versicolor\"\\n5.5,2.4,3.8,1.1,\"Versicolor\"\\n5.5,2.4,3.7,1,\"Versicolor\"\\n5.8,2.7,3.9,1.2,\"Versicolor\"\\n6,2.7,5.1,1.6,\"Versicolor\"\\n5.4,3,4.5,1.5,\"Versicolor\"\\n6,3.4,4.5,1.6,\"Versicolor\"\\n6.7,3.1,4.7,1.5,\"Versicolor\"\\n6.3,2.3,4.4,1.3,\"Versicolor\"\\n5.6,3,4.1,1.3,\"Versicolor\"\\n5.5,2.5,4,1.3,\"Versicolor\"\\n5.5,2.6,4.4,1.2,\"Versicolor\"\\n6.1,3,4.6,1.4,\"Versicolor\"\\n5.8,2.6,4,1.2,\"Versicolor\"\\n5,2.3,3.3,1,\"Versicolor\"\\n5.6,2.7,4.2,1.3,\"Versicolor\"\\n5.7,3,4.2,1.2,\"Versicolor\"\\n5.7,2.9,4.2,1.3,\"Versicolor\"\\n6.2,2.9,4.3,1.3,\"Versicolor\"\\n5.1,2.5,3,1.1,\"Versicolor\"\\n5.7,2.8,4.1,1.3,\"Versicolor\"\\n6.3,3.3,6,2.5,\"Virginica\"\\n5.8,2.7,5.1,1.9,\"Virginica\"\\n7.1,3,5.9,2.1,\"Virginica\"\\n6.3,2.9,5.6,1.8,\"Virginica\"\\n6.5,3,5.8,2.2,\"Virginica\"\\n7.6,3,6.6,2.1,\"Virginica\"\\n4.9,2.5,4.5,1.7,\"Virginica\"\\n7.3,2.9,6.3,1.8,\"Virginica\"\\n6.7,2.5,5.8,1.8,\"Virginica\"\\n7.2,3.6,6.1,2.5,\"Virginica\"\\n6.5,3.2,5.1,2,\"Virginica\"\\n6.4,2.7,5.3,1.9,\"Virginica\"\\n6.8,3,5.5,2.1,\"Virginica\"\\n5.7,2.5,5,2,\"Virginica\"\\n5.8,2.8,5.1,2.4,\"Virginica\"\\n6.4,3.2,5.3,2.3,\"Virginica\"\\n6.5,3,5.5,1.8,\"Virginica\"\\n7.7,3.8,6.7,2.2,\"Virginica\"\\n7.7,2.6,6.9,2.3,\"Virginica\"\\n6,2.2,5,1.5,\"Virginica\"\\n6.9,3.2,5.7,2.3,\"Virginica\"\\n5.6,2.8,4.9,2,\"Virginica\"\\n7.7,2.8,6.7,2,\"Virginica\"\\n6.3,2.7,4.9,1.8,\"Virginica\"\\n6.7,3.3,5.7,2.1,\"Virginica\"\\n7.2,3.2,6,1.8,\"Virginica\"\\n6.2,2.8,4.8,1.8,\"Virginica\"\\n6.1,3,4.9,1.8,\"Virginica\"\\n6.4,2.8,5.6,2.1,\"Virginica\"\\n7.2,3,5.8,1.6,\"Virginica\"\\n7.4,2.8,6.1,1.9,\"Virginica\"\\n7.9,3.8,6.4,2,\"Virginica\"\\n6.4,2.8,5.6,2.2,\"Virginica\"\\n6.3,2.8,5.1,1.5,\"Virginica\"\\n6.1,2.6,5.6,1.4,\"Virginica\"\\n7.7,3,6.1,2.3,\"Virginica\"\\n6.3,3.4,5.6,2.4,\"Virginica\"\\n6.4,3.1,5.5,1.8,\"Virginica\"\\n6,3,4.8,1.8,\"Virginica\"\\n6.9,3.1,5.4,2.1,\"Virginica\"\\n6.7,3.1,5.6,2.4,\"Virginica\"\\n6.9,3.1,5.1,2.3,\"Virginica\"\\n5.8,2.7,5.1,1.9,\"Virginica\"\\n6.8,3.2,5.9,2.3,\"Virginica\"\\n6.7,3.3,5.7,2.5,\"Virginica\"\\n6.7,3,5.2,2.3,\"Virginica\"\\n6.3,2.5,5,1.9,\"Virginica\"\\n6.5,3,5.2,2,\"Virginica\"\\n6.2,3.4,5.4,2.3,\"Virginica\"\\n5.9,3,5.1,1.8,\"Virginica\"'\n"
     ]
    },
    {
     "data": {
      "text/html": [
       "<div>\n",
       "<style scoped>\n",
       "    .dataframe tbody tr th:only-of-type {\n",
       "        vertical-align: middle;\n",
       "    }\n",
       "\n",
       "    .dataframe tbody tr th {\n",
       "        vertical-align: top;\n",
       "    }\n",
       "\n",
       "    .dataframe thead th {\n",
       "        text-align: right;\n",
       "    }\n",
       "</style>\n",
       "<table border=\"1\" class=\"dataframe\">\n",
       "  <thead>\n",
       "    <tr style=\"text-align: right;\">\n",
       "      <th></th>\n",
       "      <th>sepal.length</th>\n",
       "      <th>sepal.width</th>\n",
       "      <th>petal.length</th>\n",
       "      <th>petal.width</th>\n",
       "      <th>variety</th>\n",
       "    </tr>\n",
       "  </thead>\n",
       "  <tbody>\n",
       "    <tr>\n",
       "      <th>0</th>\n",
       "      <td>5.1</td>\n",
       "      <td>3.5</td>\n",
       "      <td>1.4</td>\n",
       "      <td>0.2</td>\n",
       "      <td>Setosa</td>\n",
       "    </tr>\n",
       "    <tr>\n",
       "      <th>1</th>\n",
       "      <td>4.9</td>\n",
       "      <td>3.0</td>\n",
       "      <td>1.4</td>\n",
       "      <td>0.2</td>\n",
       "      <td>Setosa</td>\n",
       "    </tr>\n",
       "    <tr>\n",
       "      <th>2</th>\n",
       "      <td>4.7</td>\n",
       "      <td>3.2</td>\n",
       "      <td>1.3</td>\n",
       "      <td>0.2</td>\n",
       "      <td>Setosa</td>\n",
       "    </tr>\n",
       "    <tr>\n",
       "      <th>3</th>\n",
       "      <td>4.6</td>\n",
       "      <td>3.1</td>\n",
       "      <td>1.5</td>\n",
       "      <td>0.2</td>\n",
       "      <td>Setosa</td>\n",
       "    </tr>\n",
       "    <tr>\n",
       "      <th>4</th>\n",
       "      <td>5.0</td>\n",
       "      <td>3.6</td>\n",
       "      <td>1.4</td>\n",
       "      <td>0.2</td>\n",
       "      <td>Setosa</td>\n",
       "    </tr>\n",
       "  </tbody>\n",
       "</table>\n",
       "</div>"
      ],
      "text/plain": [
       "   sepal.length  sepal.width  petal.length  petal.width variety\n",
       "0           5.1          3.5           1.4          0.2  Setosa\n",
       "1           4.9          3.0           1.4          0.2  Setosa\n",
       "2           4.7          3.2           1.3          0.2  Setosa\n",
       "3           4.6          3.1           1.5          0.2  Setosa\n",
       "4           5.0          3.6           1.4          0.2  Setosa"
      ]
     },
     "execution_count": 25,
     "metadata": {},
     "output_type": "execute_result"
    }
   ],
   "source": [
    "bucket_name = \"bucket-20220501-1555\"\n",
    "file_name = \"iris.csv\"\n",
    "namespace = \"ocichina001\"\n",
    "\n",
    "from ocifs import OCIFileSystem\n",
    "\n",
    "fs = OCIFileSystem(config=\"~/.oci/config\", profile=\"specialist2-4sdk\", region=\"ap-singapore-1\")\n",
    "fsls = fs.ls(f\"{bucket_name}@{namespace}\")\n",
    "print(fsls)\n",
    "\n",
    "file = fs.open(f\"oci://{bucket_name}@{namespace}/{file_name}\")\n",
    "buffer = file.read()\n",
    "print(buffer)\n",
    "file.close()\n",
    "\n",
    "from dask import dataframe as dd\n",
    "\n",
    "storage_options = {'config':\"~/.oci/config\", 'profile': \"specialist2-4sdk\", 'tenancy': 'ocid1.tenancy.oc1..aaaaaaaavnk4luuiasjkuhiizwnwust2xx3td7b4cbj5vhiccb47hra26p4q', 'region': \"ap-singapore-1\"}\n",
    "ds = dd.read_csv(f\"oci://{bucket_name}@{namespace}/{file_name}\",\n",
    "            storage_options=storage_options)\n",
    "ds.head()\n"
   ]
  }
 ],
 "metadata": {
  "kernelspec": {
   "display_name": "ads",
   "language": "python",
   "name": "python3"
  },
  "language_info": {
   "codemirror_mode": {
    "name": "ipython",
    "version": 3
   },
   "file_extension": ".py",
   "mimetype": "text/x-python",
   "name": "python",
   "nbconvert_exporter": "python",
   "pygments_lexer": "ipython3",
   "version": "3.9.16"
  },
  "orig_nbformat": 4,
  "vscode": {
   "interpreter": {
    "hash": "11d456721fd560773bf6734d07eb69db84636f1359e0ce9815e5f368940162fc"
   }
  }
 },
 "nbformat": 4,
 "nbformat_minor": 2
}
